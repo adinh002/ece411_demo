{
 "cells": [
  {
   "cell_type": "code",
   "execution_count": 1,
   "metadata": {},
   "outputs": [],
   "source": [
    "# Imports and constants\n",
    "\n",
    "import qiskit, random, matplotlib, time\n",
    "\n",
    "numBits= 6 # Maximum key length\n",
    "numCompare= 6 # Number of sifted key bits to share (and then discard)\n",
    "\n",
    "\n",
    "def getRandomBases(numBits):\n",
    "    b= []\n",
    "    for i in range(numBits):\n",
    "        if random.random() > 0.5: b.append(\"x\")\n",
    "        else: b.append(\"+\")\n",
    "    return b\n",
    "\n",
    "\n",
    "simulator= qiskit.Aer.get_backend('qasm_simulator')\n",
    "def sim(circ):\n",
    "    job= qiskit.execute(circ, simulator, shots=1)\n",
    "    \n",
    "    result= job.result().get_counts(circ)\n",
    "    \n",
    "    key= list(result.keys())[0]\n",
    "    key= \"\".join(list(reversed(key)))\n",
    "    \n",
    "    return key\n",
    "\n",
    "def applyBases(circ, bases):\n",
    "    circ.barrier()\n",
    "    for i,bse in enumerate(bases):\n",
    "        if bse==\"x\": circ.h(i)\n",
    "    return circ"
   ]
  },
  {
   "cell_type": "markdown",
   "metadata": {},
   "source": [
    "# Case 1: No eavesdropper"
   ]
  },
  {
   "cell_type": "code",
   "execution_count": 2,
   "metadata": {},
   "outputs": [
    {
     "name": "stdout",
     "output_type": "stream",
     "text": [
      "Alice's initial key:\t\t 010100\n",
      "Alice's measurement bases:\t x+xxxx\n"
     ]
    },
    {
     "data": {
      "image/png": "[encoded data removed]",
      "text/plain": [
       "<Figure size 358.792x445.48 with 1 Axes>"
      ]
     },
     "execution_count": 2,
     "metadata": {},
     "output_type": "execute_result"
    }
   ],
   "source": [
    "# -----------------------\n",
    "# Alice's Keys + bases\n",
    "# -----------------------\n",
    "\n",
    "# Generate Alice's key\n",
    "keyA= random.randint(0, 2**numBits)\n",
    "keyA= str(bin(keyA))[2:].zfill(numBits) # ignore Python's '0b' prefix for binary literals and zeropad\n",
    "print(\"Alice's initial key:\\t\\t\", keyA)\n",
    "\n",
    "\n",
    "# Alice's measurement bases\n",
    "basesA= getRandomBases(numBits)\n",
    "print(\"Alice's measurement bases:\\t\", \"\".join(basesA))\n",
    "\n",
    "\n",
    "\n",
    "# -----------------------\n",
    "# Quantum representation\n",
    "# -----------------------\n",
    "\n",
    "circA= qiskit.QuantumCircuit(numBits, numBits*2) # (One classical reg for Bob, one for Eve)\n",
    "\n",
    "# Initialize qubits (|0> by default)\n",
    "for i,bit in enumerate(keyA):\n",
    "    if bit==\"1\": circA.x(i) # apply not-gate\n",
    "\n",
    "circA.barrier() # aesthetic purposes\n",
    "        \n",
    "    \n",
    "# Apply bases (assume rectilinear + as default)\n",
    "for i,bse in enumerate(basesA):\n",
    "    if bse==\"x\": circA.h(i) # hadamard thingy\n",
    "\n",
    "circA.draw(output='mpl') # show circuit"
   ]
  },
  {
   "cell_type": "code",
   "execution_count": 3,
   "metadata": {},
   "outputs": [
    {
     "name": "stdout",
     "output_type": "stream",
     "text": [
      "Bob's measurement bases:\t +x+xx+\n"
     ]
    },
    {
     "data": {
      "image/png": "[encoded data removed]",
      "text/plain": [
       "<Figure size 719.992x445.48 with 1 Axes>"
      ]
     },
     "execution_count": 3,
     "metadata": {},
     "output_type": "execute_result"
    }
   ],
   "source": [
    "# -----------------------\n",
    "# Bob's bases\n",
    "# -----------------------\n",
    "\n",
    "basesB= []\n",
    "basesB= getRandomBases(numBits)\n",
    "print(\"Bob's measurement bases:\\t\", \"\".join(basesB))\n",
    "\n",
    "\n",
    "\n",
    "# -----------------------\n",
    "# Quantum representation\n",
    "# -----------------------\n",
    "\n",
    "circB= qiskit.QuantumCircuit(numBits, numBits*2)        \n",
    "circB.barrier()\n",
    "\n",
    "# Apply bases (assume rectilinear + as default)\n",
    "for i,bse in enumerate(basesB):\n",
    "    if bse==\"x\": circB.h(i) # hadamard thingy\n",
    "\n",
    "# Measurement probes\n",
    "circB.barrier()\n",
    "circB.measure(range(numBits), range(numBits))\n",
    "circB.draw(output='mpl')\n",
    "        \n",
    "circB.draw(output='mpl') # show circuit"
   ]
  },
  {
   "cell_type": "code",
   "execution_count": 4,
   "metadata": {},
   "outputs": [],
   "source": [
    "# Alice sends Bob the key (in qubits!)\n",
    "circC= circA + circB\n",
    "\n",
    "# Final circuit\n",
    "circC.draw(output='mpl')\n",
    "\n",
    "# Bob gets results\n",
    "keyB= sim(circC)[:numBits]"
   ]
  },
  {
   "cell_type": "code",
   "execution_count": 5,
   "metadata": {},
   "outputs": [
    {
     "name": "stdout",
     "output_type": "stream",
     "text": [
      "Alice's key:\t\t 010100\n",
      "Bob's measured key:\t 010100\n",
      "\n",
      "Alice tells Bob her bases: x+xxxx\n",
      "Bob tells Alice his bases: +x+xx+\n",
      "\n",
      "Bases match at indices: [3, 4]\n",
      "\n",
      "----------\n",
      "\n",
      "Alice and Bob now ignore bits where measurement basis differ.\n",
      "\n",
      "Alice's sifted key:\t 10\n",
      "Bob's sifted key:\t 10\n",
      "\n",
      "----------\n",
      "\n",
      "Alice and Bob now share the first 2 bits of their keys.\n",
      "Alice shares:\t 10\n",
      "Bob shares:\t 10\n",
      "\n",
      "----------\n",
      "\n",
      "***Alice and Bob are 43% sure there's no eavesdropper!***\n"
     ]
    }
   ],
   "source": [
    "# -----------------------\n",
    "# Comparing the bases\n",
    "# -----------------------\n",
    "\n",
    "matches= [i for i in range(len(basesA)) if basesA[i] == basesB[i]]\n",
    "siftA= [keyA[i] for i in matches]\n",
    "siftB= [keyB[i] for i in matches]\n",
    "\n",
    "n= min(len(siftA),numCompare)\n",
    "detectProb= 1 - 0.75**n\n",
    "\n",
    "# -----------------------\n",
    "# Summary\n",
    "# -----------------------\n",
    "\n",
    "print(\"Alice's key:\\t\\t\", str(keyA))\n",
    "print(\"Bob's measured key:\\t\", keyB)\n",
    "\n",
    "print()\n",
    "print(\"Alice tells Bob her bases:\", \"\".join(basesA))\n",
    "print(\"Bob tells Alice his bases:\", \"\".join(basesB))\n",
    "\n",
    "print()\n",
    "print(\"Bases match at indices:\", matches)\n",
    "print(\"\\n----------\\n\\nAlice and Bob now ignore bits where measurement basis differ.\")\n",
    "\n",
    "print()\n",
    "print(\"Alice's sifted key:\\t\", \"\".join(siftA))\n",
    "print(\"Bob's sifted key:\\t\", \"\".join(siftB))\n",
    "\n",
    "print(f\"\\n----------\\n\\nAlice and Bob now share the first {n} bits of their keys.\")\n",
    "print(\"Alice shares:\\t\", \"\".join(siftA[:n]))\n",
    "print(\"Bob shares:\\t\", \"\".join(siftB[:n]))\n",
    "\n",
    "print(\"\\n----------\\n\")\n",
    "if siftA[:n] != siftB[:n]: print(\"***Alice's and Bob's shared keys don't match! There's an evesdropper!***\")\n",
    "else: print(f\"***Alice and Bob are {int(detectProb*100)}% sure there's no eavesdropper!***\")"
   ]
  },
  {
   "cell_type": "code",
   "execution_count": null,
   "metadata": {},
   "outputs": [],
   "source": []
  },
  {
   "cell_type": "code",
   "execution_count": null,
   "metadata": {},
   "outputs": [],
   "source": []
  },
  {
   "cell_type": "markdown",
   "metadata": {},
   "source": [
    "# Case 2: Eavesdropper"
   ]
  },
  {
   "cell_type": "code",
   "execution_count": 6,
   "metadata": {
    "scrolled": false
   },
   "outputs": [
    {
     "data": {
      "image/png": "[encoded data removed]",
      "text/plain": [
       "<Figure size 840.392x445.48 with 1 Axes>"
      ]
     },
     "execution_count": 6,
     "metadata": {},
     "output_type": "execute_result"
    }
   ],
   "source": [
    "# -----------------------\n",
    "# Reuse intial key and chosen bases\n",
    "# -----------------------\n",
    "keyA= keyA\n",
    "basesA= basesA\n",
    "basesB= basesB\n",
    "\n",
    "circA= circA\n",
    "circB= circB\n",
    "\n",
    "\n",
    "# -----------------------\n",
    "# Introduce Eve\n",
    "# -----------------------\n",
    "circE= qiskit.QuantumCircuit(numBits, numBits*2)\n",
    "basesE= getRandomBases(numBits) # random measurement bases\n",
    "\n",
    "circE.barrier()\n",
    "for i,bse in enumerate(basesE): # apply Eve's bases\n",
    "    if bse==\"x\": circE.h(i)\n",
    "\n",
    "circE.barrier()\n",
    "circE.measure(range(numBits), range(numBits,numBits*2)) # measurement probes  \n",
    "\n",
    "circE.barrier()\n",
    "for i,bse in enumerate(basesE): # Change state if Eve guesses wrong and fix state if right\n",
    "    if bse==\"x\": circE.h(i)\n",
    "\n",
    "circE.draw(output='mpl')"
   ]
  },
  {
   "cell_type": "code",
   "execution_count": 7,
   "metadata": {
    "scrolled": false
   },
   "outputs": [
    {
     "name": "stdout",
     "output_type": "stream",
     "text": [
      "000101000101 000101 000101\n"
     ]
    },
    {
     "data": {
      "image/png": "[encoded data removed]",
      "text/plain": [
       "<Figure size 1562.79x445.48 with 1 Axes>"
      ]
     },
     "execution_count": 7,
     "metadata": {},
     "output_type": "execute_result"
    }
   ],
   "source": [
    "# -----------------------\n",
    "# Alice --> (Eve) --> Bob\n",
    "# -----------------------\n",
    "\n",
    "circC= circA + circE + circB\n",
    "\n",
    "k= sim(circC)\n",
    "keyB= k[numBits:]\n",
    "keyE= k[:numBits]\n",
    "\n",
    "print(k,keyB,keyE)\n",
    "\n",
    "# Final circuit\n",
    "circC.draw(output='mpl')"
   ]
  },
  {
   "cell_type": "code",
   "execution_count": 8,
   "metadata": {},
   "outputs": [
    {
     "name": "stdout",
     "output_type": "stream",
     "text": [
      "Alice's key:\t\t 010100 (secret)\n",
      "Bob's measured key:\t 000101 (secret)\n",
      "Eve's measured key:\t 000101\n",
      "\n",
      "Alice tells Bob her bases:\t x+xxxx\n",
      "Bob tells Alice his bases:\t +x+xx+\n",
      "Eve's bases:\t\t\t xxxx++\n",
      "\n",
      "A-B bases match at 2 indices: [3, 4]\n",
      "(Eve hears this.)\n",
      "\n",
      "----------\n",
      "\n",
      "Alice and Bob now ignore bits where measurement basis differ.\n",
      "Alice's sifted key:\t 10\n",
      "Bob's sifted key:\t 10\n",
      "(Eve's sifted key:\t 10)\n",
      "\n",
      "----------\n",
      "\n",
      "Alice and Bob now share the first 2 bits of their keys.\n",
      "Alice shares:\t 10\n",
      "Bob shares:\t 10\n",
      "(Eve has:\t 10)\n",
      "\n",
      "----------\n",
      "\n",
      "***Alice and Bob are 43% sure there's no eavesdropper!***\n"
     ]
    }
   ],
   "source": [
    "# -----------------------\n",
    "# Comparing the bases\n",
    "# -----------------------\n",
    "\n",
    "matches= [i for i in range(len(basesA)) if basesA[i] == basesB[i]]\n",
    "siftA= [keyA[i] for i in matches]\n",
    "siftB= [keyB[i] for i in matches]\n",
    "siftE= [keyE[i] for i in matches]\n",
    "\n",
    "n= min(len(siftA),numCompare)\n",
    "detectProb= 1 - 0.75**n\n",
    "\n",
    "# -----------------------\n",
    "# Summary\n",
    "# -----------------------\n",
    "\n",
    "diff= lambda x,y: len([i for i in range(len(x)) if x[i] != y[i]]) # Count differing bits\n",
    "\n",
    "print(\"Alice's key:\\t\\t\", str(keyA),\"(secret)\")\n",
    "print(\"Bob's measured key:\\t\", keyB,\"(secret)\")\n",
    "print(\"Eve's measured key:\\t\", keyE)\n",
    "\n",
    "print()\n",
    "print(\"Alice tells Bob her bases:\\t\", \"\".join(basesA))\n",
    "print(\"Bob tells Alice his bases:\\t\", \"\".join(basesB))\n",
    "print(\"Eve's bases:\\t\\t\\t\", \"\".join(basesE))\n",
    "\n",
    "print()\n",
    "print(f\"A-B bases match at {len(matches)} indices:\", matches)\n",
    "print(\"(Eve hears this.)\")\n",
    "\n",
    "print(\"\\n----------\\n\\nAlice and Bob now ignore bits where measurement basis differ.\")\n",
    "print(\"Alice's sifted key:\\t\", \"\".join(siftA))\n",
    "print(\"Bob's sifted key:\\t\", \"\".join(siftB))\n",
    "print(\"(Eve's sifted key:\\t\", \"\".join(siftE) + \")\")\n",
    "\n",
    "print(f\"\\n----------\\n\\nAlice and Bob now share the first {n} bits of their keys.\")\n",
    "print(\"Alice shares:\\t\", \"\".join(siftA[:n]))\n",
    "print(\"Bob shares:\\t\", \"\".join(siftB[:n]))\n",
    "print(\"(Eve has:\\t\", \"\".join(siftE[:n]) +\")\")\n",
    "\n",
    "\n",
    "\n",
    "print(\"\\n----------\\n\")\n",
    "if siftA[:n] != siftB[:n]: print(\"***Alice's and Bob's shared keys don't match! There's an evesdropper!***\")\n",
    "else: print(f\"***Alice and Bob are {int(detectProb*100)}% sure there's no eavesdropper!***\")"
   ]
  },
  {
   "cell_type": "code",
   "execution_count": null,
   "metadata": {},
   "outputs": [],
   "source": []
  },
  {
   "cell_type": "code",
   "execution_count": null,
   "metadata": {},
   "outputs": [],
   "source": []
  },
  {
   "cell_type": "code",
   "execution_count": null,
   "metadata": {},
   "outputs": [],
   "source": []
  },
  {
   "cell_type": "code",
   "execution_count": null,
   "metadata": {},
   "outputs": [],
   "source": []
  },
  {
   "cell_type": "markdown",
   "metadata": {},
   "source": [
    "## x1000 Trails"
   ]
  },
  {
   "cell_type": "code",
   "execution_count": 9,
   "metadata": {
    "scrolled": false
   },
   "outputs": [
    {
     "name": "stdout",
     "output_type": "stream",
     "text": [
      "Simulating 200 trials with 10 qubits and 4 key-sharing bits.\n",
      "\n",
      "Expected detection rate:\t 68%\n",
      "Simulated detection rate:\t 70%\n",
      "\n",
      "Runtime: 2.97s with 160 accepted trials.\n"
     ]
    }
   ],
   "source": [
    "def genA():\n",
    "    basesA= getRandomBases(numBits)\n",
    "    circA= qiskit.QuantumCircuit(numBits, numBits*2)\n",
    "    \n",
    "    keyA= random.randint(0, 2**numBits)\n",
    "    keyA= str(bin(keyA))[2:].zfill(numBits)\n",
    "    \n",
    "    for i,bit in enumerate(keyA):\n",
    "        if bit==\"1\": circA.x(i)\n",
    "    circA= applyBases(circA, basesA)\n",
    "    \n",
    "    return circA, basesA, keyA\n",
    "\n",
    "\n",
    "def genB():\n",
    "    basesB= getRandomBases(numBits)\n",
    "    circB= qiskit.QuantumCircuit(numBits, numBits*2)        \n",
    "    circB= applyBases(circB, basesB)\n",
    "\n",
    "    circB.barrier()\n",
    "    circB.measure(range(numBits), range(numBits))\n",
    "    \n",
    "    return circB, basesB\n",
    "\n",
    "def genE():\n",
    "    basesE= getRandomBases(numBits)\n",
    "    circE= qiskit.QuantumCircuit(numBits, numBits*2)\n",
    "    circE= applyBases(circE, basesE)\n",
    "\n",
    "    circE.barrier()\n",
    "    circE.measure(range(numBits), range(numBits, numBits*2))      \n",
    "    \n",
    "    circE.barrier()\n",
    "    circE= applyBases(circE, basesE)\n",
    "    \n",
    "    return circE, basesE\n",
    "\n",
    "\n",
    "# Return (is_acceptable_trial, is_detected)\n",
    "def calc():\n",
    "    circA, basesA, keyA= genA()\n",
    "    circB, basesB= genB()\n",
    "    circE, basesE= genE()\n",
    "    \n",
    "    k= sim(circA + circE + circB)\n",
    "    keyB= k[:numBits]\n",
    "    keyE= k[numBits:]\n",
    "\n",
    "    matches= [i for i in range(len(basesA)) if basesA[i] == basesB[i]]\n",
    "    siftA= [keyA[i] for i in matches]\n",
    "    siftB= [keyB[i] for i in matches]\n",
    "    \n",
    "    if len(siftA) < numCompare: return 0,0 # disregard trial -- not enough sifted key bits\n",
    "    elif siftA[:numCompare] != siftB[:numCompare]: return 1,1  # Eve detected\n",
    "    else: return 1,0 # failed detection\n",
    "\n",
    "numBits= 10\n",
    "numCompare= 4\n",
    "\n",
    "counts= 0\n",
    "total= 0\n",
    "shots= 200\n",
    "\n",
    "start= time.time()\n",
    "for i in range(shots):\n",
    "    accept,detect = calc()\n",
    "    total+= accept\n",
    "    counts+= detect\n",
    "runtime= time.time() - start\n",
    "\n",
    "print(f\"Simulating {shots} trials with {numBits} qubits and {numCompare} key-sharing bits.\")\n",
    "\n",
    "print()\n",
    "print(\"Expected detection rate:\\t\",f\"{int((1 - 0.75**numCompare)*100)}%\")\n",
    "print(f\"Simulated detection rate:\\t\", f\"{int((counts / total)*100)}%\")\n",
    "\n",
    "print()\n",
    "print(\"Runtime:\", str(round(runtime,2)) + \"s with\",total,\"accepted trials.\")"
   ]
  },
  {
   "cell_type": "raw",
   "metadata": {},
   "source": []
  },
  {
   "cell_type": "code",
   "execution_count": null,
   "metadata": {},
   "outputs": [],
   "source": []
  },
  {
   "cell_type": "code",
   "execution_count": null,
   "metadata": {},
   "outputs": [],
   "source": []
  },
  {
   "cell_type": "code",
   "execution_count": null,
   "metadata": {},
   "outputs": [],
   "source": []
  }
 ],
 "metadata": {
  "kernelspec": {
   "display_name": "Python 3",
   "language": "python",
   "name": "python3"
  },
  "language_info": {
   "codemirror_mode": {
    "name": "ipython",
    "version": 3
   },
   "file_extension": ".py",
   "mimetype": "text/x-python",
   "name": "python",
   "nbconvert_exporter": "python",
   "pygments_lexer": "ipython3",
   "version": "3.7.3"
  }
 },
 "nbformat": 4,
 "nbformat_minor": 4
}
